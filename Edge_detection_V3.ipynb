{
  "nbformat": 4,
  "nbformat_minor": 0,
  "metadata": {
    "colab": {
      "name": "Edge_detection_V3.ipynb",
      "version": "0.3.2",
      "provenance": [],
      "collapsed_sections": [],
      "include_colab_link": true
    },
    "kernelspec": {
      "name": "python3",
      "display_name": "Python 3"
    }
  },
  "cells": [
    {
      "cell_type": "markdown",
      "metadata": {
        "id": "view-in-github",
        "colab_type": "text"
      },
      "source": [
        "<a href=\"https://colab.research.google.com/github/Denis2054/NEXTGENAI/blob/master/Edge_detection_V3.ipynb\" target=\"_parent\"><img src=\"https://colab.research.google.com/assets/colab-badge.svg\" alt=\"Open In Colab\"/></a>"
      ]
    },
    {
      "metadata": {
        "id": "RVcxaVRd5p8d",
        "colab_type": "text"
      },
      "cell_type": "markdown",
      "source": [
        "#**Edge Detection Kernel**"
      ]
    },
    {
      "metadata": {
        "id": "771r1lug0ghA",
        "colab_type": "code",
        "colab": {}
      },
      "cell_type": "code",
      "source": [
        "#Edge dection kernel\n",
        "#Built with SciPy\n",
        "#Copyright 2018 Denis Rothman MIT License. READ LICENSE."
      ],
      "execution_count": 0,
      "outputs": []
    },
    {
      "metadata": {
        "id": "OO-5qwmI5_XQ",
        "colab_type": "text"
      },
      "cell_type": "markdown",
      "source": [
        "###Importing Libraries\n"
      ]
    },
    {
      "metadata": {
        "id": "OuZA1iUE0zId",
        "colab_type": "code",
        "colab": {}
      },
      "cell_type": "code",
      "source": [
        "import matplotlib.image as mpimg\n",
        "import numpy as np\n",
        "import scipy.ndimage.filters as filter\n",
        "import matplotlib.pyplot as plt\n",
        "\n",
        "import urllib\n",
        "from urllib.request import urlretrieve\n",
        "import os"
      ],
      "execution_count": 0,
      "outputs": []
    },
    {
      "metadata": {
        "id": "SM0AezVO6HWE",
        "colab_type": "text"
      },
      "cell_type": "markdown",
      "source": [
        "###Using a Kernel (Gaussian or other)"
      ]
    },
    {
      "metadata": {
        "id": "RJfDgh5F06nd",
        "colab_type": "code",
        "colab": {}
      },
      "cell_type": "code",
      "source": [
        "\n",
        "#I.An edge dectection kernel\n",
        "kernel_edge_detection = np.array([[0.,1.,0.],\n",
        "                                [1.,-4.,1.],\n",
        "                                [0.,1.,0.]])"
      ],
      "execution_count": 0,
      "outputs": []
    },
    {
      "metadata": {
        "id": "eeCYvGF76S0u",
        "colab_type": "text"
      },
      "cell_type": "markdown",
      "source": [
        "### Case 1: Using a drive that was mounted for Google Drive"
      ]
    },
    {
      "metadata": {
        "id": "TB-TmxLlzOop",
        "colab_type": "text"
      },
      "cell_type": "markdown",
      "source": [
        "In this case, use your Google Drive account.\n",
        "For more consult this notebook:\n",
        "https://colab.research.google.com/notebooks/io.ipynb\n"
      ]
    },
    {
      "metadata": {
        "id": "K0eiC31A9YM6",
        "colab_type": "code",
        "colab": {}
      },
      "cell_type": "code",
      "source": [
        "from google.colab import drive"
      ],
      "execution_count": 0,
      "outputs": []
    },
    {
      "metadata": {
        "id": "4SSD9cVR0ReJ",
        "colab_type": "text"
      },
      "cell_type": "markdown",
      "source": [
        "### Case 1: Using urllib"
      ]
    },
    {
      "metadata": {
        "id": "dFOQ0epd4D2U",
        "colab_type": "text"
      },
      "cell_type": "markdown",
      "source": [
        "This is an example of how to load the image from an url"
      ]
    },
    {
      "metadata": {
        "id": "V__pNHYLWKR2",
        "colab_type": "code",
        "outputId": "f3c7d5f6-d361-4f4a-b194-cbe3e436946e",
        "colab": {
          "base_uri": "https://localhost:8080/",
          "height": 349
        }
      },
      "cell_type": "code",
      "source": [
        "\n",
        "# create a file-like object from the url\n",
        "g = urllib.request.urlopen(\"https://www.eco-ai-horizons.com/img.png\")\n",
        "\n",
        "# read the image file in a numpy array\n",
        "a = plt.imread(g)\n",
        "plt.imshow(a)\n",
        "plt.show()\n"
      ],
      "execution_count": 92,
      "outputs": [
        {
          "output_type": "display_data",
          "data": {
            "image/png": "[encoded data removed]",
            "text/plain": [
              "<Figure size 576x396 with 1 Axes>"
            ]
          },
          "metadata": {
            "tags": []
          }
        }
      ]
    },
    {
      "metadata": {
        "id": "8r-YtaCF6hLO",
        "colab_type": "text"
      },
      "cell_type": "markdown",
      "source": [
        "###Loading the image, obtaining its shape, applying the convolution function with a static filter(kernel)"
      ]
    },
    {
      "metadata": {
        "id": "qCHv-byI03k1",
        "colab_type": "code",
        "outputId": "d3812cd2-4915-4022-8a27-e458e3f8b166",
        "colab": {
          "base_uri": "https://localhost:8080/",
          "height": 34
        }
      },
      "cell_type": "code",
      "source": [
        "#Case 1: Using Google Drive\n",
        "#image=mpimg.imread('YOUR DRIVE PATH')[:,:,0]\n",
        "\n",
        "\n",
        "#Case 2 Using urllib\n",
        "h = urllib.request.urlopen(\"https://www.eco-ai-horizons.com/img.png\")\n",
        "image=mpimg.imread(h)[:,:,0]\n",
        "\n",
        "\n",
        "shape = image.shape\n",
        "print(\"image shape\",shape)\n",
        "#III.Convolution\n",
        "image_after_kernel = filter.convolve(image,kernel_edge_detection,mode='constant', cval=0)\n",
        "\n"
      ],
      "execution_count": 93,
      "outputs": [
        {
          "output_type": "stream",
          "text": [
            "image shape (100, 100)\n"
          ],
          "name": "stdout"
        }
      ]
    },
    {
      "metadata": {
        "id": "muY6gtqn6xJg",
        "colab_type": "text"
      },
      "cell_type": "markdown",
      "source": [
        "###Displaying the image before and after the convolution as an image and as arrays\n"
      ]
    },
    {
      "metadata": {
        "id": "rj1zhDPC1BR8",
        "colab_type": "code",
        "outputId": "7175391e-1030-4856-8798-152d3570f779",
        "colab": {
          "base_uri": "https://localhost:8080/",
          "height": 486
        }
      },
      "cell_type": "code",
      "source": [
        "#III.Displaying the image before and after the convolution\n",
        "f = plt.figure(figsize=(8, 8))\n",
        "axarr=f.subplots(2,sharex=False)\n",
        "axarr[0].imshow(image,cmap=plt.cm.gray)\n",
        "axarr[1].imshow(image_after_kernel,cmap=plt.cm.gray)\n",
        "f.show()\n"
      ],
      "execution_count": 94,
      "outputs": [
        {
          "output_type": "display_data",
          "data": {
            "image/png": "[encoded data removed]",
            "text/plain": [
              "<Figure size 576x576 with 2 Axes>"
            ]
          },
          "metadata": {
            "tags": []
          }
        }
      ]
    },
    {
      "metadata": {
        "id": "Jbz3rrUM1FA0",
        "colab_type": "code",
        "outputId": "80323e96-e133-4659-a778-83326a601569",
        "colab": {
          "base_uri": "https://localhost:8080/",
          "height": 289
        }
      },
      "cell_type": "code",
      "source": [
        "print(\"image before convolution\")\n",
        "print(image)\n",
        "print(\"image after convolution\")\n",
        "print(image_after_kernel)"
      ],
      "execution_count": 95,
      "outputs": [
        {
          "output_type": "stream",
          "text": [
            "image before convolution\n",
            "[[1. 1. 1. ... 1. 1. 1.]\n",
            " [1. 1. 1. ... 1. 1. 1.]\n",
            " [1. 1. 1. ... 1. 1. 1.]\n",
            " ...\n",
            " [1. 1. 1. ... 1. 1. 1.]\n",
            " [1. 1. 1. ... 1. 1. 1.]\n",
            " [1. 1. 1. ... 1. 1. 1.]]\n",
            "image after convolution\n",
            "[[-2. -1. -1. ... -1. -1. -2.]\n",
            " [-1.  0.  0. ...  0.  0. -1.]\n",
            " [-1.  0.  0. ...  0.  0. -1.]\n",
            " ...\n",
            " [-1.  0.  0. ...  0.  0. -1.]\n",
            " [-1.  0.  0. ...  0.  0. -1.]\n",
            " [-2. -1. -1. ... -1. -1. -2.]]\n"
          ],
          "name": "stdout"
        }
      ]
    }
  ]
}