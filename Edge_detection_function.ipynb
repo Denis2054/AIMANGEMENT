{
  "nbformat": 4,
  "nbformat_minor": 0,
  "metadata": {
    "colab": {
      "name": "Edge_detection_function.ipynb",
      "version": "0.3.2",
      "provenance": [],
      "collapsed_sections": [],
      "include_colab_link": true
    },
    "kernelspec": {
      "name": "python3",
      "display_name": "Python 3"
    }
  },
  "cells": [
    {
      "cell_type": "markdown",
      "metadata": {
        "id": "view-in-github",
        "colab_type": "text"
      },
      "source": [
        "<a href=\"https://colab.research.google.com/github/Denis2054/AIMANGEMENT/blob/master/Edge_detection_function.ipynb\" target=\"_parent\"><img src=\"https://colab.research.google.com/assets/colab-badge.svg\" alt=\"Open In Colab\"/></a>"
      ]
    },
    {
      "metadata": {
        "id": "RVcxaVRd5p8d",
        "colab_type": "text"
      },
      "cell_type": "markdown",
      "source": [
        "#**Edge Detection Kernel**"
      ]
    },
    {
      "metadata": {
        "id": "Oq7WfhIm2MZ0",
        "colab_type": "text"
      },
      "cell_type": "markdown",
      "source": [
        "The goal of this program is to show how a convolution function works using a filter.\n",
        "\n",
        "\n",
        "---\n",
        "\n",
        "\n",
        "Convolutional neural networks are based on convolution functions.\n",
        "Although machine power and the applications are new, the mathematical functions can be traced back to\n",
        "\"Recherches sur différents points importants du système du monde\" by Jean le Rond d'Alembert, published in 1754.\n",
        "More \"recently\" Carl Friedrich Gauss(1777-1855) invented, among many other innovations, filters that we still use today.\n",
        "In the 20th Yann LeCun produced a convolutional neural network as early as 1988 which gave birth to many variations used to this day. "
      ]
    },
    {
      "metadata": {
        "id": "771r1lug0ghA",
        "colab_type": "code",
        "colab": {}
      },
      "cell_type": "code",
      "source": [
        "#Edge dection kernel\n",
        "#Built with SciPy\n",
        "#Copyright 2018 Denis Rothman MIT License. READ LICENSE."
      ],
      "execution_count": 0,
      "outputs": []
    },
    {
      "metadata": {
        "id": "OO-5qwmI5_XQ",
        "colab_type": "text"
      },
      "cell_type": "markdown",
      "source": [
        "###Importing Libraries\n"
      ]
    },
    {
      "metadata": {
        "id": "OuZA1iUE0zId",
        "colab_type": "code",
        "colab": {}
      },
      "cell_type": "code",
      "source": [
        "import matplotlib.image as mpimg\n",
        "import numpy as np\n",
        "import scipy.ndimage.filters as filter\n",
        "import matplotlib.pyplot as plt"
      ],
      "execution_count": 0,
      "outputs": []
    },
    {
      "metadata": {
        "id": "SM0AezVO6HWE",
        "colab_type": "text"
      },
      "cell_type": "markdown",
      "source": [
        "###Using a Kernel (Gaussian or other)\n",
        "The filter will move over an image, for example, and transform it."
      ]
    },
    {
      "metadata": {
        "id": "RJfDgh5F06nd",
        "colab_type": "code",
        "colab": {}
      },
      "cell_type": "code",
      "source": [
        "\n",
        "#I.An edge dectection kernel\n",
        "kernel_edge_detection = np.array([[0.,1.,0.],\n",
        "                                [1.,-4.,1.],\n",
        "                                [0.,1.,0.]])"
      ],
      "execution_count": 0,
      "outputs": []
    },
    {
      "metadata": {
        "id": "eeCYvGF76S0u",
        "colab_type": "text"
      },
      "cell_type": "markdown",
      "source": [
        "###Using a drive that was mounted for Google Drive"
      ]
    },
    {
      "metadata": {
        "id": "K0eiC31A9YM6",
        "colab_type": "code",
        "colab": {}
      },
      "cell_type": "code",
      "source": [
        "from google.colab import drive"
      ],
      "execution_count": 0,
      "outputs": []
    },
    {
      "metadata": {
        "id": "8r-YtaCF6hLO",
        "colab_type": "text"
      },
      "cell_type": "markdown",
      "source": [
        "###Loading the image, obtaining its shape, applying the convolution function with a static filter(kernel)\n",
        "The best way to do this is to use your own data repository. \n",
        "You can start by using your Google Drive account.\n",
        "You can open this notebook in this repository on GitHub:\n",
        "\n",
        "        AIMANGEMENT/Managing_External_data_Drive,_Sheets,_and_Cloud_Storage_.ipynb\n",
        "      "
      ]
    },
    {
      "metadata": {
        "id": "qCHv-byI03k1",
        "colab_type": "code",
        "outputId": "cc800c1a-7368-45cf-fde0-7afe20a264a9",
        "colab": {
          "base_uri": "https://localhost:8080/",
          "height": 34
        }
      },
      "cell_type": "code",
      "source": [
        "#II.Load image\n",
        "image=mpimg.imread('your path')[:,:,0]\n",
        "shape = image.shape\n",
        "print(\"image shape\",shape)\n",
        "#III.Convolution\n",
        "image_after_kernel = filter.convolve(image,kernel_edge_detection,mode='constant', cval=0)\n",
        "\n"
      ],
      "execution_count": 5,
      "outputs": [
        {
          "output_type": "stream",
          "text": [
            "image shape (100, 100)\n"
          ],
          "name": "stdout"
        }
      ]
    },
    {
      "metadata": {
        "id": "muY6gtqn6xJg",
        "colab_type": "text"
      },
      "cell_type": "markdown",
      "source": [
        "###Displaying the image before and after the convolution as an image and as arrays\n"
      ]
    },
    {
      "metadata": {
        "id": "rj1zhDPC1BR8",
        "colab_type": "code",
        "outputId": "8f141876-50eb-45a3-9007-e01e1a43acd1",
        "colab": {
          "base_uri": "https://localhost:8080/",
          "height": 486
        }
      },
      "cell_type": "code",
      "source": [
        "#III.Displaying the image before and after the convolution\n",
        "f = plt.figure(figsize=(8, 8))\n",
        "axarr=f.subplots(2,sharex=False)\n",
        "axarr[0].imshow(image,cmap=plt.cm.gray)\n",
        "axarr[1].imshow(image_after_kernel,cmap=plt.cm.gray)\n",
        "f.show()\n"
      ],
      "execution_count": 6,
      "outputs": [
        {
          "output_type": "display_data",
          "data": {
            "image/png": "[encoded data removed]",
            "text/plain": [
              "<Figure size 576x576 with 2 Axes>"
            ]
          },
          "metadata": {
            "tags": []
          }
        }
      ]
    },
    {
      "metadata": {
        "id": "Jbz3rrUM1FA0",
        "colab_type": "code",
        "outputId": "34d140f3-4ab5-4a4d-91d4-76c91b4e02e5",
        "colab": {
          "base_uri": "https://localhost:8080/",
          "height": 289
        }
      },
      "cell_type": "code",
      "source": [
        "print(\"image before convolution\")\n",
        "print(image)\n",
        "print(\"image after convolution\")\n",
        "print(image_after_kernel)"
      ],
      "execution_count": 7,
      "outputs": [
        {
          "output_type": "stream",
          "text": [
            "image before convolution\n",
            "[[255 255 255 ... 255 255 255]\n",
            " [255 255 255 ... 255 255 255]\n",
            " [255 255 255 ... 255 255 255]\n",
            " ...\n",
            " [255 255 255 ... 255 255 255]\n",
            " [255 255 255 ... 255 255 255]\n",
            " [255 255 255 ... 255 255 255]]\n",
            "image after convolution\n",
            "[[2 1 1 ... 1 1 2]\n",
            " [1 0 0 ... 0 0 1]\n",
            " [1 0 0 ... 0 0 1]\n",
            " ...\n",
            " [1 0 0 ... 0 0 1]\n",
            " [1 0 0 ... 0 0 1]\n",
            " [2 1 1 ... 1 1 2]]\n"
          ],
          "name": "stdout"
        }
      ]
    }
  ]
}